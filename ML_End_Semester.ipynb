{
 "cells": [
  {
   "cell_type": "code",
   "execution_count": 1,
   "metadata": {
    "colab": {},
    "colab_type": "code",
    "id": "soeGcNHY0uT0"
   },
   "outputs": [],
   "source": [
    "import os\n",
    "import cv2\n",
    "import numpy as np\n",
    "import matplotlib.pyplot as plt\n",
    "from tqdm import tqdm_notebook\n",
    "from sklearn import metrics\n",
    "from sklearn.metrics import confusion_matrix\n",
    "#from tqdm.notebook import tqdm\n",
    "#from google.colab import drive"
   ]
  },
  {
   "cell_type": "code",
   "execution_count": 2,
   "metadata": {
    "colab": {
     "base_uri": "https://localhost:8080/",
     "height": 122
    },
    "colab_type": "code",
    "executionInfo": {
     "elapsed": 79097,
     "status": "ok",
     "timestamp": 1591796925978,
     "user": {
      "displayName": "Arunav Saikia",
      "photoUrl": "",
      "userId": "11372978261063870823"
     },
     "user_tz": -330
    },
    "id": "Q5JOKGT505KI",
    "outputId": "c4391467-a7f4-4ebd-9b0d-7de7b946b7f1"
   },
   "outputs": [],
   "source": [
    "#drive.mount('/content/drive')"
   ]
  },
  {
   "cell_type": "code",
   "execution_count": 3,
   "metadata": {
    "colab": {},
    "colab_type": "code",
    "id": "ynzb3Jfr1E-a"
   },
   "outputs": [],
   "source": [
    "#os.chdir(\"MLImages\")"
   ]
  },
  {
   "cell_type": "code",
   "execution_count": 4,
   "metadata": {
    "colab": {},
    "colab_type": "code",
    "id": "I9b6SCsy1MG9"
   },
   "outputs": [],
   "source": [
    "#os.chdir(\"My Drive\")"
   ]
  },
  {
   "cell_type": "code",
   "execution_count": 5,
   "metadata": {
    "colab": {},
    "colab_type": "code",
    "id": "lowWGCdx1TxX"
   },
   "outputs": [],
   "source": [
    "#os.chdir(\"Images\")"
   ]
  },
  {
   "cell_type": "code",
   "execution_count": 6,
   "metadata": {
    "colab": {},
    "colab_type": "code",
    "id": "zQxHmgFq1Xsh"
   },
   "outputs": [],
   "source": [
    "#os.chdir(\"Images_ml\")"
   ]
  },
  {
   "cell_type": "code",
   "execution_count": 8,
   "metadata": {
    "colab": {
     "base_uri": "https://localhost:8080/",
     "height": 34
    },
    "colab_type": "code",
    "executionInfo": {
     "elapsed": 3387,
     "status": "ok",
     "timestamp": 1591796990150,
     "user": {
      "displayName": "Arunav Saikia",
      "photoUrl": "",
      "userId": "11372978261063870823"
     },
     "user_tz": -330
    },
    "id": "6oFxu6GY1fHt",
    "outputId": "abc1604e-106a-4bda-efab-03ef37eecbdc"
   },
   "outputs": [
    {
     "name": "stdout",
     "output_type": "stream",
     "text": [
      "/home/arnv/Documents/ML Final Exam/MLImages\n"
     ]
    }
   ],
   "source": [
    "print(os.getcwd())"
   ]
  },
  {
   "cell_type": "code",
   "execution_count": 9,
   "metadata": {
    "colab": {},
    "colab_type": "code",
    "id": "gS4TzHIa0uUp"
   },
   "outputs": [],
   "source": [
    "path = '/home/arnv/Documents/ML Final Exam/MLImages'"
   ]
  },
  {
   "cell_type": "code",
   "execution_count": 10,
   "metadata": {
    "colab": {},
    "colab_type": "code",
    "id": "xwxL-wEb0uUt"
   },
   "outputs": [],
   "source": [
    "file_list=[]"
   ]
  },
  {
   "cell_type": "code",
   "execution_count": 11,
   "metadata": {
    "colab": {},
    "colab_type": "code",
    "id": "ObVg9qHK1zy3"
   },
   "outputs": [],
   "source": [
    "I = np.zeros((501,288,360,3))"
   ]
  },
  {
   "cell_type": "code",
   "execution_count": 12,
   "metadata": {
    "colab": {},
    "colab_type": "code",
    "id": "WiVjNszT0uU3"
   },
   "outputs": [],
   "source": [
    "for r,d,f in os.walk(path):\n",
    "    for file in f:\n",
    "        if \".bmp\" in file:\n",
    "            file_list.append(os.path.join(r,file))"
   ]
  },
  {
   "cell_type": "code",
   "execution_count": 13,
   "metadata": {},
   "outputs": [],
   "source": [
    "file_list=sorted(file_list)"
   ]
  },
  {
   "cell_type": "code",
   "execution_count": 14,
   "metadata": {
    "colab": {},
    "colab_type": "code",
    "id": "fcQmbuav0uU8"
   },
   "outputs": [],
   "source": [
    "for t in range(0,501):\n",
    "    img = cv2.imread(file_list[t])\n",
    "    I[t] = img"
   ]
  },
  {
   "cell_type": "code",
   "execution_count": 15,
   "metadata": {
    "colab": {},
    "colab_type": "code",
    "id": "VaQ-WfcU0uVE"
   },
   "outputs": [],
   "source": [
    "M = np.zeros((501,288,360,3))"
   ]
  },
  {
   "cell_type": "code",
   "execution_count": 16,
   "metadata": {
    "colab": {},
    "colab_type": "code",
    "id": "C8FuBmpX0uVI"
   },
   "outputs": [],
   "source": [
    "V = np.zeros((501,288,360,3))"
   ]
  },
  {
   "cell_type": "code",
   "execution_count": 17,
   "metadata": {
    "colab": {},
    "colab_type": "code",
    "id": "R3vs8CNR0uVN"
   },
   "outputs": [],
   "source": [
    "B = {}"
   ]
  },
  {
   "cell_type": "code",
   "execution_count": 18,
   "metadata": {
    "colab": {},
    "colab_type": "code",
    "id": "KUC8ZLc3gTx8"
   },
   "outputs": [],
   "source": [
    "M[0] = I[0]\n",
    "V[0,:,:,:] = 9"
   ]
  },
  {
   "cell_type": "code",
   "execution_count": 19,
   "metadata": {
    "colab": {},
    "colab_type": "code",
    "id": "6Ode2P2b0uVY"
   },
   "outputs": [],
   "source": [
    "D = np.zeros((505,288,360,3))"
   ]
  },
  {
   "cell_type": "code",
   "execution_count": 20,
   "metadata": {
    "colab": {},
    "colab_type": "code",
    "id": "7xtox7cz0uVm"
   },
   "outputs": [],
   "source": [
    "lamda = [0.5,1.0, 2.0, 3.0, 4.0, 5.0, 6.0, 7.0]"
   ]
  },
  {
   "cell_type": "code",
   "execution_count": 21,
   "metadata": {
    "colab": {},
    "colab_type": "code",
    "id": "RShNbBLa0uVr"
   },
   "outputs": [],
   "source": [
    "C = np.zeros((8,501,288,360))"
   ]
  },
  {
   "cell_type": "markdown",
   "metadata": {
    "colab_type": "text",
    "id": "JPtbspPK0uVX"
   },
   "source": [
    "# Foreground Detection "
   ]
  },
  {
   "cell_type": "code",
   "execution_count": 22,
   "metadata": {
    "colab": {},
    "colab_type": "code",
    "id": "y95LV1Fcj8Iz"
   },
   "outputs": [],
   "source": [
    "A = np.zeros((501, 292, 364))"
   ]
  },
  {
   "cell_type": "code",
   "execution_count": 23,
   "metadata": {
    "colab": {},
    "colab_type": "code",
    "id": "IVMle54I0uWY"
   },
   "outputs": [],
   "source": [
    "v_C = np.zeros((8,501,288,360))"
   ]
  },
  {
   "cell_type": "code",
   "execution_count": 24,
   "metadata": {
    "colab": {},
    "colab_type": "code",
    "id": "6fW5IvTq0uWV"
   },
   "outputs": [],
   "source": [
    "n_v = 0.6"
   ]
  },
  {
   "cell_type": "code",
   "execution_count": 25,
   "metadata": {
    "colab": {},
    "colab_type": "code",
    "id": "04XaFSYEAJJr"
   },
   "outputs": [],
   "source": [
    "alpha = np.zeros((501,1))"
   ]
  },
  {
   "cell_type": "code",
   "execution_count": 26,
   "metadata": {
    "colab": {},
    "colab_type": "code",
    "id": "zjqlOxce4oGU"
   },
   "outputs": [],
   "source": [
    "F = np.zeros((501,288,360))"
   ]
  },
  {
   "cell_type": "code",
   "execution_count": 27,
   "metadata": {},
   "outputs": [],
   "source": [
    "t_c= 100"
   ]
  },
  {
   "cell_type": "code",
   "execution_count": 29,
   "metadata": {
    "colab": {
     "base_uri": "https://localhost:8080/",
     "height": 1000
    },
    "colab_type": "code",
    "executionInfo": {
     "elapsed": 9761945,
     "status": "error",
     "timestamp": 1591810637516,
     "user": {
      "displayName": "Arunav Saikia",
      "photoUrl": "",
      "userId": "11372978261063870823"
     },
     "user_tz": -330
    },
    "id": "G3mgfZ3N0uVh",
    "outputId": "d83b907e-b2ba-46b3-bb62-ec2714cc16f8"
   },
   "outputs": [
    {
     "name": "stderr",
     "output_type": "stream",
     "text": [
      "/home/arnv/anaconda3/lib/python3.7/site-packages/ipykernel_launcher.py:4: TqdmDeprecationWarning: This function will be removed in tqdm==5.0.0\n",
      "Please use `tqdm.notebook.tqdm` instead of `tqdm.tqdm_notebook`\n",
      "  after removing the cwd from sys.path.\n"
     ]
    },
    {
     "data": {
      "application/vnd.jupyter.widget-view+json": {
       "model_id": "a3d02227dacf4e0a945761212209f35e",
       "version_major": 2,
       "version_minor": 0
      },
      "text/plain": [
       "HBox(children=(FloatProgress(value=0.0, max=8.0), HTML(value='')))"
      ]
     },
     "metadata": {},
     "output_type": "display_data"
    },
    {
     "name": "stdout",
     "output_type": "stream",
     "text": [
      "\n"
     ]
    }
   ],
   "source": [
    "epoches = 1\n",
    "images =  len(I)\n",
    "total_lamda = 8\n",
    "for l in tqdm_notebook(range(0,total_lamda), total =total_lamda, unit=\"lambda\"): \n",
    "    for t in range(1,images):        \n",
    "        # Foreground Detection\n",
    "        for x in range(2,290):\n",
    "          for y in range(2,362):\n",
    "              D[t,x-2,y-2,:] = I[t,x-2,y-2,:] - M[t-1,x-2,y-2,:]\n",
    "              a = (D[t,x-2,y-2,:]**2 <= (lamda[l]**2)*V[t-1,x-2,y-2,:])\n",
    "              #print(a)\n",
    "              if(a[0] and a[1] and a[2]):\n",
    "                    C[l,t,x-2,y-2] =  0\n",
    "              else:\n",
    "                    C[l,t,x-2,y-2] = 255\n",
    "        # Detection of noise\n",
    "        C_pad = np.pad(C[l,t],((2,2),(2,2)),'constant')\n",
    "        for x in range(2,290):\n",
    "           for y in range(2,362):\n",
    "              window = C_pad[x-2:x+3,y-2:y+3]\n",
    "              count = np.sum(window/255)\n",
    "              F[t,x-2,y-2] = float(count)\n",
    "              if(F[t,x-2,y-2]/25 > n_v):\n",
    "                  v_C[l,t,x-2,y-2]=255\n",
    "              else:\n",
    "                  v_C[l,t,x-2,y-2]=0\n",
    "        # Model Update\n",
    "              if(t<=t_c):\n",
    "                 alpha[t]=1.0/(t+1)\n",
    "              else:\n",
    "                 alpha[t]=1.0/t_c\n",
    "              if (v_C[l,t,x-2,y-2] ==0):\n",
    "                 kro = 1\n",
    "              else:\n",
    "                 kro = 0\n",
    "              M[t,x-2,y-2,:] = M[t-1,x-2,y-2,:] + kro*alpha[t]*D[t,x-2,y-2,:]\n",
    "              if ((v_C[l,t,x-2,y-2]-255) ==0):\n",
    "                 kro_255 = 1\n",
    "              else:\n",
    "                 kro_255 = 0\n",
    "              V[t,x-2,y-2,:] = kro_255*(V[t-1,x-2,y-2,:]) + kro*((1-alpha[t])*(V[t-1,x-2,y-2,:] + alpha[t]*(D[t,x-2,y-2,:])**2)) \n",
    "            \n",
    "            "
   ]
  },
  {
   "cell_type": "code",
   "execution_count": 33,
   "metadata": {
    "colab": {
     "base_uri": "https://localhost:8080/",
     "height": 286
    },
    "colab_type": "code",
    "executionInfo": {
     "elapsed": 1930,
     "status": "ok",
     "timestamp": 1591810686551,
     "user": {
      "displayName": "Arunav Saikia",
      "photoUrl": "",
      "userId": "11372978261063870823"
     },
     "user_tz": -330
    },
    "id": "cNnquFyS0uV-",
    "outputId": "d449be02-5e33-4b90-bdc9-90e96adb216e"
   },
   "outputs": [
    {
     "data": {
      "text/plain": [
       "<matplotlib.image.AxesImage at 0x7f443ebc78d0>"
      ]
     },
     "execution_count": 33,
     "metadata": {},
     "output_type": "execute_result"
    },
    {
     "data": {
      "image/png": "[encoded data removed]",
      "text/plain": [
       "<Figure size 432x288 with 1 Axes>"
      ]
     },
     "metadata": {
      "needs_background": "light"
     },
     "output_type": "display_data"
    }
   ],
   "source": [
    "plt.imshow((C[7,15,:,:]),cmap=\"gray\")"
   ]
  },
  {
   "cell_type": "code",
   "execution_count": 32,
   "metadata": {},
   "outputs": [
    {
     "data": {
      "text/plain": [
       "<matplotlib.image.AxesImage at 0x7f419b947bd0>"
      ]
     },
     "execution_count": 32,
     "metadata": {},
     "output_type": "execute_result"
    },
    {
     "data": {
      "image/png": "[encoded data removed]",
      "text/plain": [
       "<Figure size 432x288 with 1 Axes>"
      ]
     },
     "metadata": {
      "needs_background": "light"
     },
     "output_type": "display_data"
    }
   ],
   "source": [
    "plt.imshow((v_C[7,15,:,:]),cmap=\"gray\")"
   ]
  },
  {
   "cell_type": "markdown",
   "metadata": {},
   "source": [
    "# ROC Curve"
   ]
  },
  {
   "cell_type": "code",
   "execution_count": 34,
   "metadata": {},
   "outputs": [],
   "source": [
    "file_ground_truth = []"
   ]
  },
  {
   "cell_type": "code",
   "execution_count": 35,
   "metadata": {},
   "outputs": [
    {
     "data": {
      "text/plain": [
       "'/home/arnv/Documents/ML Final Exam/MLImages'"
      ]
     },
     "execution_count": 35,
     "metadata": {},
     "output_type": "execute_result"
    }
   ],
   "source": [
    "os.getcwd()"
   ]
  },
  {
   "cell_type": "code",
   "execution_count": 36,
   "metadata": {},
   "outputs": [],
   "source": [
    "#os.chdir(\"..\")"
   ]
  },
  {
   "cell_type": "code",
   "execution_count": 38,
   "metadata": {},
   "outputs": [],
   "source": [
    "#os.chdir(\"BakSubGroundTruth\")"
   ]
  },
  {
   "cell_type": "code",
   "execution_count": 39,
   "metadata": {},
   "outputs": [],
   "source": [
    "path_background = '/home/arnv/Documents/ML Final Exam/BakSubGroundTruth'"
   ]
  },
  {
   "cell_type": "code",
   "execution_count": 40,
   "metadata": {},
   "outputs": [],
   "source": [
    "for r,d,f in os.walk(path_background):\n",
    "    for file in f:\n",
    "        if \".bmp\" in file:\n",
    "            file_ground_truth.append(os.path.join(r,file))"
   ]
  },
  {
   "cell_type": "code",
   "execution_count": 41,
   "metadata": {},
   "outputs": [],
   "source": [
    "file_ground_truth=sorted(file_ground_truth)"
   ]
  },
  {
   "cell_type": "code",
   "execution_count": 42,
   "metadata": {},
   "outputs": [],
   "source": [
    "Ground_truth = np.zeros((len(file_ground_truth),288,360))"
   ]
  },
  {
   "cell_type": "code",
   "execution_count": 45,
   "metadata": {},
   "outputs": [],
   "source": [
    "for t in range(0,501):\n",
    "    img = cv2.imread(file_ground_truth[t],0)\n",
    "    Ground_truth[t] = img"
   ]
  },
  {
   "cell_type": "code",
   "execution_count": 49,
   "metadata": {},
   "outputs": [],
   "source": [
    "Ground_truth_vector = Ground_truth.flatten()"
   ]
  },
  {
   "cell_type": "code",
   "execution_count": 50,
   "metadata": {},
   "outputs": [],
   "source": [
    "sensitivity = []\n",
    "false_positive_rate = []"
   ]
  },
  {
   "cell_type": "code",
   "execution_count": 51,
   "metadata": {},
   "outputs": [
    {
     "name": "stderr",
     "output_type": "stream",
     "text": [
      "/home/arnv/anaconda3/lib/python3.7/site-packages/ipykernel_launcher.py:2: TqdmDeprecationWarning: This function will be removed in tqdm==5.0.0\n",
      "Please use `tqdm.notebook.tqdm` instead of `tqdm.tqdm_notebook`\n",
      "  \n"
     ]
    },
    {
     "data": {
      "application/vnd.jupyter.widget-view+json": {
       "model_id": "d0d9b9ba412b49809f2f64d9f39e4665",
       "version_major": 2,
       "version_minor": 0
      },
      "text/plain": [
       "HBox(children=(FloatProgress(value=0.0, max=8.0), HTML(value='')))"
      ]
     },
     "metadata": {},
     "output_type": "display_data"
    },
    {
     "name": "stdout",
     "output_type": "stream",
     "text": [
      "\n"
     ]
    }
   ],
   "source": [
    "lamda = 8\n",
    "for i in tqdm_notebook(range(0,8), total=lamda, unit=\"lambda\"):\n",
    "    v_C_vector = v_C[i].flatten()\n",
    "    tn, fp, fn, tp = confusion_matrix(Ground_truth_vector,v_C_vector,labels=[0,255]).ravel()\n",
    "    sensitivity.append(tp/(tp+fn))\n",
    "    false_positive_rate.append(fp/(fp+tn))"
   ]
  },
  {
   "cell_type": "code",
   "execution_count": 56,
   "metadata": {},
   "outputs": [
    {
     "data": {
      "image/png": "[encoded data removed]",
      "text/plain": [
       "<Figure size 432x288 with 1 Axes>"
      ]
     },
     "metadata": {
      "needs_background": "light"
     },
     "output_type": "display_data"
    }
   ],
   "source": [
    "plt.plot(false_positive_rate,sensitivity)\n",
    "plt.scatter(false_positive_rate,sensitivity)\n",
    "plt.title(\"Recievers Operating Characteristics\")\n",
    "plt.xlabel(\"false positive rate\")\n",
    "plt.ylabel(\"sensitivity\")\n",
    "plt.grid()\n",
    "plt.show()"
   ]
  }
 ],
 "metadata": {
  "colab": {
   "collapsed_sections": [],
   "name": "OS_Module_Sequential.ipynb",
   "provenance": [],
   "toc_visible": true
  },
  "kernelspec": {
   "display_name": "Python 3",
   "language": "python",
   "name": "python3"
  },
  "language_info": {
   "codemirror_mode": {
    "name": "ipython",
    "version": 3
   },
   "file_extension": ".py",
   "mimetype": "text/x-python",
   "name": "python",
   "nbconvert_exporter": "python",
   "pygments_lexer": "ipython3",
   "version": "3.7.6"
  }
 },
 "nbformat": 4,
 "nbformat_minor": 1
}
